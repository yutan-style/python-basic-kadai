{
  "nbformat": 4,
  "nbformat_minor": 0,
  "metadata": {
    "colab": {
      "provenance": []
    },
    "kernelspec": {
      "name": "python3",
      "display_name": "Python 3"
    },
    "language_info": {
      "name": "python"
    }
  },
  "cells": [
    {
      "cell_type": "code",
      "execution_count": null,
      "metadata": {
        "id": "wGo1hh6gSAeo"
      },
      "outputs": [],
      "source": [
        "# Humanクラスの定義\n",
        "class Human:\n",
        "    def __init__(self, name, age):\n",
        "        # nameとageの属性を初期化\n",
        "        self.name = name\n",
        "        self.age = age\n",
        "\n",
        "    # 年齢によって大人かどうかを標準出力するメソッド\n",
        "    def check_adult(self):\n",
        "        if self.age >= 20:\n",
        "            print(f\"{self.name}は大人です。\")\n",
        "        else:\n",
        "            print(f\"{self.name}は大人ではありません。\")\n",
        "\n",
        "# Humanクラスのインスタンスを複数生成\n",
        "person1 = Human(\"Taro\", 25)\n",
        "person2 = Human(\"Hanako\", 18)\n",
        "person3 = Human(\"Jiro\", 30)\n",
        "\n",
        "# インスタンスをリストに追加\n",
        "people = [person1, person2, person3]\n",
        "\n",
        "# リストの要素数分だけcheck_adultメソッドを呼び出し\n",
        "for person in people:\n",
        "    person.check_adult()"
      ]
    }
  ]
}