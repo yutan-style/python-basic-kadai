{
  "nbformat": 4,
  "nbformat_minor": 0,
  "metadata": {
    "colab": {
      "provenance": []
    },
    "kernelspec": {
      "name": "python3",
      "display_name": "Python 3"
    },
    "language_info": {
      "name": "python"
    }
  },
  "cells": [
    {
      "cell_type": "code",
      "execution_count": null,
      "metadata": {
        "id": "VMoELaqwMe1I"
      },
      "outputs": [],
      "source": [
        "#エラーの理由：tax 変数は total 関数の内部で定義されていますが、\n",
        "#関数の外側で tax を使おうとしているためにエラーが発生している。\n",
        "\n",
        "# 価格の定義\n",
        "price1 = 100\n",
        "price2 = 200\n",
        "\n",
        "def total():\n",
        "    tax = 1.1\n",
        "    # 価格の合計に消費税を掛けた値を返す\n",
        "    return (price1 + price2) * tax\n",
        "\n",
        "# 関数を呼び出して結果を出力\n",
        "print(total())\n"
      ]
    }
  ]
}