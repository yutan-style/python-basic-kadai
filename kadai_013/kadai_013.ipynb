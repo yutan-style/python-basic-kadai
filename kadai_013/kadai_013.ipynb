{
  "nbformat": 4,
  "nbformat_minor": 0,
  "metadata": {
    "colab": {
      "provenance": []
    },
    "kernelspec": {
      "name": "python3",
      "display_name": "Python 3"
    },
    "language_info": {
      "name": "python"
    }
  },
  "cells": [
    {
      "cell_type": "code",
      "execution_count": null,
      "metadata": {
        "id": "d9RyRz2BIQMI"
      },
      "outputs": [],
      "source": [
        "# 関数の定義\n",
        "def calculate_total_with_tax(price, tax_rate):\n",
        "    # 消費税を加えた合計金額の計算\n",
        "    total = price + (price * tax_rate)\n",
        "    return total\n",
        "\n",
        "# 商品の金額と消費税率を設定\n",
        "price = 1000  # 商品の金額 (円)\n",
        "tax_rate = 0.10  # 消費税率 (10%)\n",
        "\n",
        "# 関数を呼び出して結果を取得\n",
        "total_price = calculate_total_with_tax(price, tax_rate)\n",
        "\n",
        "# 結果の出力\n",
        "print(f\"消費税を加えた合計金額: {total_price}円\")"
      ]
    }
  ]
}