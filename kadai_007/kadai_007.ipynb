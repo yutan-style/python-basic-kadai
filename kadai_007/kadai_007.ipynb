{
  "nbformat": 4,
  "nbformat_minor": 0,
  "metadata": {
    "colab": {
      "provenance": []
    },
    "kernelspec": {
      "name": "python3",
      "display_name": "Python 3"
    },
    "language_info": {
      "name": "python"
    }
  },
  "cells": [
    {
      "cell_type": "code",
      "execution_count": 1,
      "metadata": {
        "colab": {
          "base_uri": "https://localhost:8080/"
        },
        "id": "CnKWTb79igsJ",
        "outputId": "7da5a0c3-a27c-4ded-840b-e33aece6b724"
      },
      "outputs": [
        {
          "output_type": "stream",
          "name": "stdout",
          "text": [
            "['月曜日は晴れです', '火曜日は雨です', '水曜日は晴れです', '木曜日は晴れです', '金曜日は曇りです', '土曜日は曇りのち雨です', '日曜日は雷雨です']\n",
            "{'mon': '晴れ', 'tue': '雨', 'wed': '晴れ', 'thu': '晴れ', 'fri': '曇り', 'sat': '曇りのち雨', 'sun': '雷雨'}\n"
          ]
        }
      ],
      "source": [
        "# arrayリストの作成\n",
        "array = [\n",
        "    \"月曜日は晴れです\",   # 0\n",
        "    \"火曜日は雨です\",     # 1\n",
        "    \"水曜日は晴れです\",   # 2\n",
        "    \"木曜日は晴れです\",   # 3\n",
        "    \"金曜日は曇りです\",   # 4\n",
        "    \"土曜日は曇りのち雨です\", # 5\n",
        "    \"日曜日は雷雨です\"    # 6\n",
        "]\n",
        "\n",
        "# arrayの出力\n",
        "print(array)\n",
        "\n",
        "# dictionary ディクショナリの作成\n",
        "dictionary = {\n",
        "    \"mon\": \"晴れ\",       # Monday\n",
        "    \"tue\": \"雨\",         # Tuesday\n",
        "    \"wed\": \"晴れ\",       # Wednesday\n",
        "    \"thu\": \"晴れ\",       # Thursday\n",
        "    \"fri\": \"曇り\",       # Friday\n",
        "    \"sat\": \"曇りのち雨\", # Saturday\n",
        "    \"sun\": \"雷雨\"        # Sunday\n",
        "}\n",
        "\n",
        "# Output the dictionary\n",
        "print(dictionary)\n"
      ]
    }
  ]
}