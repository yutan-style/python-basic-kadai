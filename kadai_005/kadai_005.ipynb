{
  "nbformat": 4,
  "nbformat_minor": 0,
  "metadata": {
    "colab": {
      "provenance": []
    },
    "kernelspec": {
      "name": "python3",
      "display_name": "Python 3"
    },
    "language_info": {
      "name": "python"
    }
  },
  "cells": [
    {
      "cell_type": "code",
      "execution_count": null,
      "metadata": {
        "id": "bJ8mt0ZS54yd"
      },
      "outputs": [],
      "source": [
        "top_length = 10  # 上辺の長さ (cm)\n",
        "bottom_length = 20  # 下辺の長さ (cm)\n",
        "height = 5  # 高さ (cm)\n",
        "\n",
        "# 台形の方程式\n",
        "area = (top_length + bottom_length) * height / 2\n",
        "\n",
        "# 結果を出力\n",
        "result = f\"{area}cm²\"\n",
        "print(result)"
      ]
    }
  ]
}