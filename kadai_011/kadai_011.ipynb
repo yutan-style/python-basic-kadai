{
  "nbformat": 4,
  "nbformat_minor": 0,
  "metadata": {
    "colab": {
      "provenance": []
    },
    "kernelspec": {
      "name": "python3",
      "display_name": "Python 3"
    },
    "language_info": {
      "name": "python"
    }
  },
  "cells": [
    {
      "cell_type": "code",
      "execution_count": 6,
      "metadata": {
        "colab": {
          "base_uri": "https://localhost:8080/"
        },
        "id": "_b4WRVA-5x7A",
        "outputId": "6f73ca49-f30f-4993-ebc3-06cb11cb0749"
      },
      "outputs": [
        {
          "output_type": "stream",
          "name": "stdout",
          "text": [
            "水\n",
            "金\n",
            "地\n",
            "火\n",
            "木\n",
            "土\n",
            "天\n",
            "海\n",
            "冥\n",
            "水\n",
            "金\n",
            "地\n",
            "火\n",
            "木\n",
            "土\n",
            "天\n",
            "海\n",
            "冥\n"
          ]
        }
      ],
      "source": [
        "# リスト化\n",
        "array = [\"水\", \"金\", \"地\", \"火\", \"木\", \"土\", \"天\", \"海\", \"冥\"]\n",
        "\n",
        "# forを使った１度目の出力\n",
        "for i in array:\n",
        "    print(i)\n",
        "\n",
        "# 2度目の出力\n",
        "for i in array:\n",
        "    print(i)\n"
      ]
    },
    {
      "cell_type": "code",
      "source": [
        "# リスト化\n",
        "array = [\"水\", \"金\", \"地\", \"火\", \"木\", \"土\", \"天\", \"海\", \"冥\"]\n",
        "\n",
        "# while loopのインデックスを設定\n",
        "index = 0\n",
        "\n",
        "# whileを使って１回目出力\n",
        "while index < 9:\n",
        "    print(array[index])\n",
        "    index += 1\n",
        "\n",
        "# インデックスリセット\n",
        "index = 0\n",
        "\n",
        "# 2回目出力\n",
        "while index < 9:\n",
        "    print(array[index])\n",
        "    index += 1\n"
      ],
      "metadata": {
        "colab": {
          "base_uri": "https://localhost:8080/"
        },
        "id": "3vCIh9Bj6-B7",
        "outputId": "ca325e6b-0533-43b4-85e0-6e9dd12db4cc"
      },
      "execution_count": 9,
      "outputs": [
        {
          "output_type": "stream",
          "name": "stdout",
          "text": [
            "水\n",
            "金\n",
            "地\n",
            "火\n",
            "木\n",
            "土\n",
            "天\n",
            "海\n",
            "冥\n",
            "水\n",
            "金\n",
            "地\n",
            "火\n",
            "木\n",
            "土\n",
            "天\n",
            "海\n",
            "冥\n"
          ]
        }
      ]
    },
    {
      "cell_type": "code",
      "source": [],
      "metadata": {
        "id": "Ytb6i2__9N1l"
      },
      "execution_count": null,
      "outputs": []
    }
  ]
}