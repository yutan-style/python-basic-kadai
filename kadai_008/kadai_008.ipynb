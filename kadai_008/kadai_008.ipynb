{
  "nbformat": 4,
  "nbformat_minor": 0,
  "metadata": {
    "colab": {
      "provenance": []
    },
    "kernelspec": {
      "name": "python3",
      "display_name": "Python 3"
    },
    "language_info": {
      "name": "python"
    }
  },
  "cells": [
    {
      "cell_type": "code",
      "execution_count": null,
      "metadata": {
        "id": "7w5L4fqAujzr"
      },
      "outputs": [],
      "source": [
        "import random\n",
        "\n",
        "var = random.randint (0,100)  # 正の整数(1から１００まででランダムに設定）\n",
        "\n",
        "print(var)\n",
        "\n",
        "# ifで条件分岐\n",
        "if var % 3 == 0 and var % 5 == 0:\n",
        "    print(\"FizzBuzz\")  # 3の倍数かつ5の倍数（３または５で割り切れる＝倍数）\n",
        "elif var % 3 == 0:\n",
        "    print(\"Fizz\")      # 3の倍数\n",
        "elif var % 5 == 0:\n",
        "    print(\"Buzz\")      # 5の倍数\n",
        "else:\n",
        "    print(var)         # 上記のどの場合にも該当しない場合"
      ]
    }
  ]
}